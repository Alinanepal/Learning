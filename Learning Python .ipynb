{
 "cells": [
  {
   "cell_type": "code",
   "execution_count": null,
   "id": "c0d4e559",
   "metadata": {},
   "outputs": [],
   "source": [
    "# print\n",
    "# print \n",
    "# print\n",
    "cmd+/- to comment out"
   ]
  },
  {
   "cell_type": "markdown",
   "id": "e516ba56",
   "metadata": {},
   "source": [
    "### Functions\n"
   ]
  },
  {
   "cell_type": "markdown",
   "id": "9ace520c",
   "metadata": {},
   "source": [
    "### To define a function:"
   ]
  },
  {
   "cell_type": "code",
   "execution_count": 1,
   "id": "1f44106a",
   "metadata": {},
   "outputs": [
    {
     "name": "stdout",
     "output_type": "stream",
     "text": [
      "I am a function\n",
      "I am a function\n",
      "None\n",
      "<function func1 at 0x7fdaa945fa60>\n"
     ]
    }
   ],
   "source": [
    "def func1():\n",
    "    print(\"I am a function\")\n",
    "\n",
    "func1()\n",
    "print(func1()) #if there is no return value it give \"None\"\n",
    "print(func1)"
   ]
  },
  {
   "cell_type": "markdown",
   "id": "8bbce431",
   "metadata": {},
   "source": [
    "## Function that take arguments"
   ]
  },
  {
   "cell_type": "code",
   "execution_count": 2,
   "id": "694c80e5",
   "metadata": {},
   "outputs": [],
   "source": [
    "def func2(arg1, arg2):\n",
    "    print(arg1, \" \", arg2)"
   ]
  },
  {
   "cell_type": "markdown",
   "id": "e667a189",
   "metadata": {},
   "source": [
    "## Function that returns a value"
   ]
  },
  {
   "cell_type": "code",
   "execution_count": 3,
   "id": "04d92cdb",
   "metadata": {},
   "outputs": [],
   "source": [
    "def cube(x):\n",
    "    return x*x*x"
   ]
  },
  {
   "cell_type": "code",
   "execution_count": 4,
   "id": "2204456d",
   "metadata": {},
   "outputs": [
    {
     "name": "stdout",
     "output_type": "stream",
     "text": [
      "20   30\n",
      "20   30\n",
      "None\n",
      "27\n"
     ]
    }
   ],
   "source": [
    "func2(20, 30)\n",
    "print(func2(20, 30))\n",
    "print(cube(3))"
   ]
  },
  {
   "cell_type": "markdown",
   "id": "edd7c446",
   "metadata": {},
   "source": [
    "## Function with default value for an argument"
   ]
  },
  {
   "cell_type": "code",
   "execution_count": 32,
   "id": "b8d70a3b",
   "metadata": {},
   "outputs": [],
   "source": [
    "def power(num, x=1): #setting x value default to 1 if, we don't pass any x\n",
    "    result =1\n",
    "    for i in range(x):\n",
    "        result= result * num\n",
    "    return result"
   ]
  },
  {
   "cell_type": "code",
   "execution_count": 33,
   "id": "4f24830c",
   "metadata": {},
   "outputs": [
    {
     "name": "stdout",
     "output_type": "stream",
     "text": [
      "2\n",
      "81\n",
      "<function power at 0x7fd349b853a0>\n"
     ]
    }
   ],
   "source": [
    "print(power(2))\n",
    "print(power(3,4))\n",
    "print(power)"
   ]
  },
  {
   "cell_type": "code",
   "execution_count": 34,
   "id": "70598a03",
   "metadata": {},
   "outputs": [
    {
     "name": "stdout",
     "output_type": "stream",
     "text": [
      "2\n",
      "4\n",
      "8\n"
     ]
    }
   ],
   "source": [
    "num = 2\n",
    "x = 3\n",
    "result = 1\n",
    "for i in range(x):\n",
    "    result = num*result\n",
    "    print (result)"
   ]
  },
  {
   "cell_type": "markdown",
   "id": "bf932492",
   "metadata": {},
   "source": [
    "## Functions with variable no of arguments"
   ]
  },
  {
   "cell_type": "code",
   "execution_count": 42,
   "id": "4134aeb4",
   "metadata": {},
   "outputs": [],
   "source": [
    "def multi_add(*args): #can pass multiple variable\n",
    "    result = 2\n",
    "    for x in args:\n",
    "        result = result*x\n",
    "    return result"
   ]
  },
  {
   "cell_type": "code",
   "execution_count": 43,
   "id": "613450d2",
   "metadata": {},
   "outputs": [
    {
     "data": {
      "text/plain": [
       "192"
      ]
     },
     "execution_count": 43,
     "metadata": {},
     "output_type": "execute_result"
    }
   ],
   "source": [
    "multi_add(2,4,3,4)"
   ]
  },
  {
   "cell_type": "code",
   "execution_count": 44,
   "id": "e0fab4e3",
   "metadata": {},
   "outputs": [
    {
     "data": {
      "text/plain": [
       "1536"
      ]
     },
     "execution_count": 44,
     "metadata": {},
     "output_type": "execute_result"
    }
   ],
   "source": [
    "4*8*6*8"
   ]
  },
  {
   "cell_type": "code",
   "execution_count": null,
   "id": "c25c00d5",
   "metadata": {},
   "outputs": [],
   "source": [
    "2"
   ]
  }
 ],
 "metadata": {
  "kernelspec": {
   "display_name": "Python 3 (ipykernel)",
   "language": "python",
   "name": "python3"
  },
  "language_info": {
   "codemirror_mode": {
    "name": "ipython",
    "version": 3
   },
   "file_extension": ".py",
   "mimetype": "text/x-python",
   "name": "python",
   "nbconvert_exporter": "python",
   "pygments_lexer": "ipython3",
   "version": "3.9.7"
  }
 },
 "nbformat": 4,
 "nbformat_minor": 5
}
